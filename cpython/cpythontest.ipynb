{
 "cells": [
  {
   "cell_type": "code",
   "execution_count": 1,
   "metadata": {},
   "outputs": [],
   "source": [
    "%load_ext cython"
   ]
  },
  {
   "cell_type": "code",
   "execution_count": null,
   "metadata": {},
   "outputs": [],
   "source": [
    "%%cython -a\n",
    "import random    \n",
    "import math                     \n",
    "            \n",
    "def miller_rabin(num,rnds):\n",
    "    if num == 2 or num == 3 or num == 5 or num == 7 or num == 11:\n",
    "        return True     \n",
    "    elif num == 4 or num == 6 or num == 8 or num == 9 or num == 10:\n",
    "        return False      \n",
    "    elif num > 2 and rnds > 0:      \n",
    "        if num % 2 == 0:\n",
    "            return False            \n",
    "        else:\n",
    "            s = 0\n",
    "            t = num - 1           \n",
    "            while t % 2 == 0:\n",
    "                t //= 2\n",
    "                s +=1           \n",
    "            for i in range(rnds):\n",
    "                a = random.randint(2,num-2)\n",
    "                x = pow(a,t,num)\n",
    "                if x == 1 or x == num - 1:\n",
    "                    continue               \n",
    "                for j in range(s-1):\n",
    "                    x = pow(x,2,num)\n",
    "                    if x == num - 1:\n",
    "                        break\n",
    "                else:\n",
    "                    return False\n",
    "            return True            \n",
    "    else:\n",
    "        print('Неверные данные\\nПервый аргумент >= 2\\nВторой > 0')"
   ]
  },
  {
   "cell_type": "code",
   "execution_count": null,
   "metadata": {},
   "outputs": [],
   "source": [
    "ex1 = 233644041304680072699949795023810733936348917337177642573003025647464227586924845446450732322802680267208401293264931001193901\n",
    "%%timeit\n",
    "miller_rabin(ex1,100)"
   ]
  },
  {
   "cell_type": "code",
   "execution_count": null,
   "metadata": {},
   "outputs": [],
   "source": [
    "%%cython -a\n",
    "import random    \n",
    "import math                     \n",
    "            \n",
    "def miller_rabin(int num, int rnds):\n",
    "    cdef int t,s,i,a,x,j\n",
    "    if num == 2 or num == 3 or num == 5 or num == 7 or num == 11:\n",
    "        return True     \n",
    "    elif num == 4 or num == 6 or num == 8 or num == 9 or num == 10:\n",
    "        return False      \n",
    "    elif num > 2 and rnds > 0:      \n",
    "        if num % 2 == 0:\n",
    "            return False            \n",
    "        else:\n",
    "            s = 0\n",
    "            t = num - 1           \n",
    "            while t % 2 == 0:\n",
    "                t //= 2\n",
    "                s +=1           \n",
    "            for i in range(rnds):\n",
    "                a = random.randint(2,num-2)\n",
    "                x = pow(a,t,num)\n",
    "                if x == 1 or x == num - 1:\n",
    "                    continue               \n",
    "                for j in range(s-1):\n",
    "                    x = pow(x,2,num)\n",
    "                    if x == num - 1:\n",
    "                        break\n",
    "                else:\n",
    "                    return False\n",
    "            return True            \n",
    "    else:\n",
    "        print('Неверные данные\\nПервый аргумент >= 2\\nВторой > 0')"
   ]
  },
  {
   "cell_type": "code",
   "execution_count": null,
   "metadata": {},
   "outputs": [],
   "source": [
    "%%timeit\n",
    "miller_rabin(ex1,100)"
   ]
  }
 ],
 "metadata": {
  "kernelspec": {
   "display_name": "Python 3",
   "language": "python",
   "name": "python3"
  },
  "language_info": {
   "codemirror_mode": {
    "name": "ipython",
    "version": 3
   },
   "file_extension": ".py",
   "mimetype": "text/x-python",
   "name": "python",
   "nbconvert_exporter": "python",
   "pygments_lexer": "ipython3",
   "version": "3.7.6"
  }
 },
 "nbformat": 4,
 "nbformat_minor": 4
}

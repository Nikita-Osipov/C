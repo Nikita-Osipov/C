{
 "cells": [
  {
   "cell_type": "markdown",
   "metadata": {},
   "source": [
    "Cython,\n",
    "Nikita Osipov,\n",
    "\n",
    "Данный файл представляет собой мини-набор сравнений между функциями, написанными на языке Python, и функциями, оптимизированными за счет Cython. Для тестов были использованы алгоритмы определения простоты числа (miller-rabin and ibn al banna). \n",
    "Первым дейcтвием является загрузка Cython. (Cython устанавливается вместе с Anaconda по умолчанию, но если использовать браузерную версию https://jupyter.org/try, то это необходимо)."
   ]
  },
  {
   "cell_type": "code",
   "execution_count": null,
   "metadata": {},
   "outputs": [],
   "source": [
    "conda install cython"
   ]
  },
  {
   "cell_type": "markdown",
   "metadata": {},
   "source": [
    "Чтобы использовать Cython в блокноте Jupyter, нам сначала нужно импортировать расширение Cython Jupyter:"
   ]
  },
  {
   "cell_type": "code",
   "execution_count": 4,
   "metadata": {},
   "outputs": [],
   "source": [
    "%load_ext cython"
   ]
  },
  {
   "cell_type": "markdown",
   "metadata": {},
   "source": [
    "Проведем тест функции, без использования возможностей Cython."
   ]
  },
  {
   "cell_type": "code",
   "execution_count": 5,
   "metadata": {},
   "outputs": [],
   "source": [
    "#%%cython -a\n",
    "import random    \n",
    "import math                     \n",
    "            \n",
    "def miller_rabin(num,rnds):\n",
    "    if num == 2 or num == 3 or num == 5 or num == 7 or num == 11:\n",
    "        return True     \n",
    "    elif num == 4 or num == 6 or num == 8 or num == 9 or num == 10:\n",
    "        return False      \n",
    "    elif num > 2 and rnds > 0:      \n",
    "        if num % 2 == 0:\n",
    "            return False            \n",
    "        else:\n",
    "            s = 0\n",
    "            t = num - 1           \n",
    "            while t % 2 == 0:\n",
    "                t //= 2\n",
    "                s +=1           \n",
    "            for i in range(rnds):\n",
    "                a = random.randint(2,num-2)\n",
    "                x = pow(a,t,num)\n",
    "                if x == 1 or x == num - 1:\n",
    "                    continue               \n",
    "                for j in range(s-1):\n",
    "                    x = pow(x,2,num)\n",
    "                    if x == num - 1:\n",
    "                        break\n",
    "                else:\n",
    "                    return False\n",
    "            return True            \n",
    "    else:\n",
    "        print('Неверные данные\\nПервый аргумент >= 2\\nВторой > 0')"
   ]
  },
  {
   "cell_type": "markdown",
   "metadata": {},
   "source": [
    "Узнем скорость работы."
   ]
  },
  {
   "cell_type": "code",
   "execution_count": 13,
   "metadata": {},
   "outputs": [
    {
     "name": "stdout",
     "output_type": "stream",
     "text": [
      "5.32 ms ± 214 µs per loop (mean ± std. dev. of 7 runs, 50 loops each)\n"
     ]
    }
   ],
   "source": [
    "ex1 = 703464731\n",
    "%timeit -n 50 miller_rabin(ex1,1000)"
   ]
  },
  {
   "cell_type": "markdown",
   "metadata": {},
   "source": [
    "Теперь добавим информацию о типах данных."
   ]
  },
  {
   "cell_type": "code",
   "execution_count": null,
   "metadata": {},
   "outputs": [],
   "source": [
    "%%cython -a\n",
    "import random    \n",
    "import math                     \n",
    "            \n",
    "def miller_rabin(long int num, int rnds):\n",
    "    cdef int t,s,i,a,x,j\n",
    "    if num == 2 or num == 3 or num == 5 or num == 7 or num == 11:\n",
    "        return True     \n",
    "    elif num == 4 or num == 6 or num == 8 or num == 9 or num == 10:\n",
    "        return False      \n",
    "    elif num > 2 and rnds > 0:      \n",
    "        if num % 2 == 0:\n",
    "            return False            \n",
    "        else:\n",
    "            s = 0\n",
    "            t = num - 1           \n",
    "            while t % 2 == 0:\n",
    "                t //= 2\n",
    "                s +=1           \n",
    "            for i in range(rnds):\n",
    "                a = random.randint(2,num-2)\n",
    "                x = pow(a,t,num)\n",
    "                if x == 1 or x == num - 1:\n",
    "                    continue               \n",
    "                for j in range(s-1):\n",
    "                    x = pow(x,2,num)\n",
    "                    if x == num - 1:\n",
    "                        break\n",
    "                else:\n",
    "                    return False\n",
    "            return True            \n",
    "    else:\n",
    "        print('Неверные данные\\nПервый аргумент >= 2\\nВторой > 0')"
   ]
  },
  {
   "cell_type": "markdown",
   "metadata": {},
   "source": [
    "Узнаем скорость работы."
   ]
  },
  {
   "cell_type": "code",
   "execution_count": 15,
   "metadata": {},
   "outputs": [
    {
     "name": "stdout",
     "output_type": "stream",
     "text": [
      "5.03 ms ± 101 µs per loop (mean ± std. dev. of 7 runs, 50 loops each)\n"
     ]
    }
   ],
   "source": [
    "%timeit -n 50 miller_rabin(ex1,1000)"
   ]
  },
  {
   "cell_type": "markdown",
   "metadata": {},
   "source": [
    "На примере алгоритма Миллера-Рабина мы не видим значительных изменений в скорости. Перейдем к следующему алгоритму.\n",
    "\n",
    "Данный алгоритм (Ibn al banna) или перебор всех делителей до корня из числа."
   ]
  },
  {
   "cell_type": "code",
   "execution_count": 16,
   "metadata": {},
   "outputs": [],
   "source": [
    "import math\n",
    "\n",
    "def ibn_al_banna(x):\n",
    "    k = 0 \n",
    "    s = math.floor(math.sqrt(x))\n",
    "    if x == 2:\n",
    "        return True\n",
    "    elif x % 2 == 0:\n",
    "        return False\n",
    "    elif x == 1:\n",
    "        return False\n",
    "    else:\n",
    "        for i in range(2,s+1):\n",
    "            if x % i == 0:\n",
    "                k = 1\n",
    "                return False\n",
    "                break                              \n",
    "            else:\n",
    "                continue\n",
    "    if k == 0:\n",
    "        return True"
   ]
  },
  {
   "cell_type": "markdown",
   "metadata": {},
   "source": [
    "Узнаем скорость работы функции:"
   ]
  },
  {
   "cell_type": "code",
   "execution_count": 17,
   "metadata": {},
   "outputs": [
    {
     "name": "stdout",
     "output_type": "stream",
     "text": [
      "2.06 ms ± 115 µs per loop (mean ± std. dev. of 7 runs, 50 loops each)\n"
     ]
    }
   ],
   "source": [
    "%timeit -n 50 ibn_al_banna(ex1)"
   ]
  },
  {
   "cell_type": "markdown",
   "metadata": {},
   "source": [
    "Теперь добавим информацию о типах данных."
   ]
  },
  {
   "cell_type": "code",
   "execution_count": null,
   "metadata": {},
   "outputs": [],
   "source": [
    "%%cython -a\n",
    "import math\n",
    "\n",
    "def ibn_al_banna(long int x):\n",
    "    cdef int k,s,i\n",
    "    k = 0 \n",
    "    s = math.floor(math.sqrt(x))\n",
    "    if x == 2:\n",
    "        return True\n",
    "    elif x % 2 == 0:\n",
    "        return False\n",
    "    elif x == 1:\n",
    "        return False\n",
    "    else:\n",
    "        for i in range(2,s+1):\n",
    "            if x % i == 0:\n",
    "                k = 1\n",
    "                return False\n",
    "                break                              \n",
    "            else:\n",
    "                continue\n",
    "    if k == 0:\n",
    "        return True"
   ]
  },
  {
   "cell_type": "markdown",
   "metadata": {},
   "source": [
    "Проведем заключительные замеры. "
   ]
  },
  {
   "cell_type": "code",
   "execution_count": 21,
   "metadata": {},
   "outputs": [
    {
     "name": "stdout",
     "output_type": "stream",
     "text": [
      "362 µs ± 67.3 µs per loop (mean ± std. dev. of 7 runs, 50 loops each)\n"
     ]
    }
   ],
   "source": [
    "%timeit -n 50 ibn_al_banna(ex1)"
   ]
  },
  {
   "cell_type": "markdown",
   "metadata": {},
   "source": [
    "Данное значение значительно меньше, что говорит об ускорении работы функции. \n",
    "Если говорить более точно, данная функция с Cython работает в 6 раз быстрее."
   ]
  }
 ],
 "metadata": {
  "kernelspec": {
   "display_name": "Python 3",
   "language": "python",
   "name": "python3"
  },
  "language_info": {
   "codemirror_mode": {
    "name": "ipython",
    "version": 3
   },
   "file_extension": ".py",
   "mimetype": "text/x-python",
   "name": "python",
   "nbconvert_exporter": "python",
   "pygments_lexer": "ipython3",
   "version": "3.7.6"
  }
 },
 "nbformat": 4,
 "nbformat_minor": 4
}
